{
 "cells": [
  {
   "cell_type": "markdown",
   "metadata": {},
   "source": [
    "# Robust methods for Machine Learning\n",
    "\n",
    "## Let's start simple: attack a linear model\n",
    "\n",
    "#### Tutorial #1 (Anne Gagneux)"
   ]
  },
  {
   "cell_type": "code",
   "execution_count": null,
   "metadata": {},
   "outputs": [],
   "source": [
    "from torchvision import datasets, transforms\n",
    "import numpy as np\n",
    "import matplotlib.pyplot as plt\n",
    "from sklearn.linear_model import LogisticRegression\n",
    "from sklearn.preprocessing import StandardScaler"
   ]
  },
  {
   "cell_type": "markdown",
   "metadata": {},
   "source": [
    "We are going to attack a linear model for binary classification.\n",
    "We focus on MNIST dataset where we only keep the $3$ and $7$ digits.\n",
    "In our setting, $\\mathbf X_{\\text{train}}$ is the training dataset of images ($7$ and $3$) and $y_{\\text{train}}$ are the matching ground-truth labels.\n",
    "\n",
    "Our linear model builds a decision function based on a hyperplane:\n",
    "$$ y_{\\text{pred}} = \\text{sign} (w^T x + b) $$\n",
    "\n",
    "The algorithm, i.e. Logistic regression, learns $w$ and $b$."
   ]
  },
  {
   "cell_type": "code",
   "execution_count": null,
   "metadata": {},
   "outputs": [],
   "source": [
    "# Load MNIST\n",
    "mnist_train = datasets.MNIST(\n",
    "    \"./data\", train=True, download=True, transform=transforms.ToTensor())\n",
    "mnist_test = datasets.MNIST(\"./data\", train=False,\n",
    "                            download=True, transform=transforms.ToTensor())\n",
    "\n",
    "\n",
    "# Only keep 3 and 7\n",
    "train_idx = (mnist_train.targets == 3) + (mnist_train.targets == 7)\n",
    "\n",
    "mnist_train.data = mnist_train.data[train_idx]\n",
    "mnist_train.targets = mnist_train.targets[train_idx]\n",
    "\n",
    "test_idx = (mnist_test.targets == 3) + (mnist_test.targets == 7)\n",
    "mnist_test.data = mnist_test.data[test_idx]\n",
    "mnist_test.targets = mnist_test.targets[test_idx]\n",
    "\n",
    "x_train, y_train = mnist_train.data.numpy(), mnist_train.targets.numpy()\n",
    "x_train = x_train.reshape(\n",
    "    (x_train.shape[0], x_train.shape[1]*x_train.shape[2]))\n",
    "scaler = StandardScaler()\n",
    "x_train = scaler.fit_transform(x_train)\n",
    "\n",
    "x_test, y_test = mnist_test.data.numpy(), mnist_test.targets.numpy()\n",
    "x_test = x_test.reshape((x_test.shape[0], x_test.shape[1]*x_test.shape[2]))\n",
    "x_test = scaler.transform(x_test)"
   ]
  },
  {
   "cell_type": "code",
   "execution_count": null,
   "metadata": {},
   "outputs": [],
   "source": [
    "# Train logistic regression\n",
    "logreg = LogisticRegression(solver='lbfgs', max_iter=2000)\n",
    "logreg.fit(x_train, y_train)\n",
    "print('test score = {}'.format(logreg.score(x_test, y_test)))"
   ]
  },
  {
   "cell_type": "code",
   "execution_count": null,
   "metadata": {},
   "outputs": [],
   "source": [
    "x1 = x_test[0]\n",
    "# Pick a point in the dataset\n",
    "\n",
    "\n",
    "def show(x, classifier):\n",
    "    plt.title('Prediction: %s. Confidence: %d %%' %\n",
    "              (classifier.predict([x])[0],\n",
    "               100 * classifier.predict_proba([x]).max()),\n",
    "              fontsize=18)\n",
    "    xx = scaler.inverse_transform([x]).reshape((28, 28))\n",
    "    plt.imshow(xx, cmap=plt.cm.gray_r, vmin=0, vmax=255)\n",
    "    plt.axis('off')\n",
    "\n",
    "\n",
    "show(x1, logreg)"
   ]
  },
  {
   "cell_type": "markdown",
   "metadata": {},
   "source": [
    "![Projection](decision-boundary.jpg)"
   ]
  },
  {
   "cell_type": "markdown",
   "metadata": {},
   "source": [
    "If we denote $x_1$ our image. \n",
    "The shorter distance to a point at the frontier is the orthogonal projection on the hyperplane $w^T x + b = 0$.\n",
    "\n",
    "<span style=\"color:orange\">**Write the projection operator onto the hyperplane**</span>"
   ]
  },
  {
   "cell_type": "code",
   "execution_count": null,
   "metadata": {},
   "outputs": [],
   "source": [
    "w = logreg.coef_[0]\n",
    "b = logreg.intercept_\n",
    "\n",
    "x2 = # TO COMPLETE\n",
    "show(x2, logreg)"
   ]
  },
  {
   "cell_type": "markdown",
   "metadata": {},
   "source": [
    "What if we want to force prediction of $x_1$ a $3$ ? \n",
    "\n",
    "<span style=\"color:orange\">**Write an explicit formula forcing $x_1$ to be misclassified**</span>\n",
    "\n",
    "\n",
    "![Projection](decision-boundary-2.jpg)\n",
    "\n"
   ]
  },
  {
   "cell_type": "code",
   "execution_count": null,
   "metadata": {},
   "outputs": [],
   "source": [
    "x3 = # TO COMPLETE\n",
    "show(x3)"
   ]
  },
  {
   "cell_type": "markdown",
   "metadata": {},
   "source": [
    "Up to now, we have minimized the $\\ell_2$ distance.\n",
    "Indeed, the orthogonal projection writes as:\n",
    "$$\\min_x \\Vert x-x_1 \\Vert_2 \\text{ subject to } w^Tx+ b = 0$$\n",
    "\n",
    "What if we want to minimize the maximum variation of each pixel ? \n",
    "$\\rightarrow$ We use the $\\ell_\\infty$ distance.\n",
    "\n",
    "Our new minimization problem is:\n",
    "$$\\min_x \\Vert x-x_1 \\Vert_\\infty \\text{ subject to } w^Tx+ b = 0$$\n",
    "\n",
    "<span style=\"color:orange\">**Solve the $\\ell_\\infty$ optimization problem**</span>\n",
    "\n",
    "*Recall (Holder's Inequality)*\n",
    "$$|x^T y| \\leq \\Vert x \\Vert_1 \\Vert y \\Vert_\\infty$$\n",
    "\n",
    "![Projection infty](decision-boundary-infty.jpg)"
   ]
  },
  {
   "cell_type": "code",
   "execution_count": null,
   "metadata": {},
   "outputs": [],
   "source": [
    "x2_infty = # TO COMPLETE\n",
    "show(x2_infty, logreg)"
   ]
  }
 ],
 "metadata": {
  "kernelspec": {
   "display_name": "myvenv",
   "language": "python",
   "name": "python3"
  },
  "language_info": {
   "codemirror_mode": {
    "name": "ipython",
    "version": 3
   },
   "file_extension": ".py",
   "mimetype": "text/x-python",
   "name": "python",
   "nbconvert_exporter": "python",
   "pygments_lexer": "ipython3",
   "version": "3.9.6"
  },
  "orig_nbformat": 4
 },
 "nbformat": 4,
 "nbformat_minor": 2
}
